{
 "cells": [
  {
   "cell_type": "code",
   "execution_count": 1,
   "metadata": {},
   "outputs": [],
   "source": [
    "import pandas as pd\n",
    "import numpy as np\n",
    "import seaborn as sns\n",
    "import matplotlib as mpl\n",
    "\n",
    "import matplotlib.pyplot as plt\n",
    "from IPython.display import display\n",
    "plt.style.use(\"fivethirtyeight\")\n",
    "sns.set_style({'font.sans-serif':['simhei','Arial']})\n",
    "%matplotlib inline"
   ]
  },
  {
   "cell_type": "code",
   "execution_count": 24,
   "metadata": {},
   "outputs": [],
   "source": [
    "df = pd.read_csv('../data/lianjia.csv')\n",
    "# 移除结构类型异常值和房屋大小异常值\n",
    "df = df[(df['Layout']!='叠拼别墅')&(df['Size']<1000)]\n",
    "\n",
    "# 去掉错误数据“南北”，因为爬虫过程中一些信息位置为空，导致“Direction”的特征出现在这里，需要清除或替换\n",
    "df['Renovation'] = df.loc[(df['Renovation'] != '南北'), 'Renovation']\n",
    "\n",
    "# 由于存在个别类型错误，如简装和精装，特征值错位，故需要移除\n",
    "df['Elevator'] = df.loc[(df['Elevator'] == '有电梯')|(df['Elevator'] == '无电梯'), 'Elevator']\n",
    "\n",
    "# 填补Elevator缺失值\n",
    "df.loc[(df['Floor']>6)&(df['Elevator'].isnull()), 'Elevator'] = '有电梯'\n",
    "df.loc[(df['Floor']<=6)&(df['Elevator'].isnull()), 'Elevator'] = '无电梯'\n",
    "\n",
    "# 只考虑“室”和“厅”，将其它少数“房间”和“卫”移除\n",
    "df = df.loc[df['Layout'].str.extract('^\\d(.*?)\\d.*?',expand=False) == '室']\n",
    "\n",
    "# 提取“室”和“厅”创建新特征\n",
    "df['Layout_room_num'] = df['Layout'].str.extract('(^\\d).*', expand=False).astype('int64')\n",
    "df['Layout_hall_num'] = df['Layout'].str.extract('^\\d.*?(\\d).*', expand=False).astype('int64')\n",
    "\n",
    "# 按中位数对“Year”特征进行分箱\n",
    "df['Year'] = pd.qcut(df['Year'],8).astype('object')\n",
    "\n",
    "# 对“Direction”特征\n",
    "d_list_one = ['东','西','南','北']\n",
    "d_list_two = ['东西','东南','东北','西南','西北','南北']\n",
    "d_list_three = ['东西南','东西北','东南北','西南北']\n",
    "d_list_four = ['东西南北']    \n",
    "df['Direction'] = df['Direction'].apply(direct_func)\n",
    "df = df.loc[(df['Direction']!='no')&(df['Direction']!='nan')]\n",
    "\n",
    "# 根据已有特征创建新特征\n",
    "df['Layout_total_num'] = df['Layout_room_num'] + df['Layout_hall_num']\n",
    "df['Size_room_ratio'] = df['Size']/df['Layout_total_num']\n",
    "\n",
    "# 删除无用特征\n",
    "df = df.drop(['Layout','Garden', 'District'], axis=1)\n",
    "\n",
    "# One-hot 独热编码\n",
    "def one_hot_encoder(df, nan_as_category = True):\n",
    "    original_columns = list(df.columns)\n",
    "    categorical_columns = [col for col in df.columns if df[col].dtype == 'object']\n",
    "    df = pd.get_dummies(df, columns= categorical_columns, dummy_na= nan_as_category)\n",
    "    new_columns = [c for c in df.columns if c not in original_columns]\n",
    "    return df, new_columns\n",
    "\n",
    "# 对于object特征进行onehot编码\n",
    "df,df_cat = one_hot_encoder(df)"
   ]
  },
  {
   "cell_type": "code",
   "execution_count": 5,
   "metadata": {
    "collapsed": true
   },
   "outputs": [
    {
     "data": {
      "text/plain": [
       "2室1厅    9485\n",
       "3室1厅    3999\n",
       "3室2厅    2765\n",
       "1室1厅    2681\n",
       "2室2厅    1671\n",
       "4室2厅     930\n",
       "1室0厅     499\n",
       "4室1厅     295\n",
       "5室2厅     200\n",
       "4室3厅      96\n",
       "5室3厅      75\n",
       "1室2厅      67\n",
       "6室2厅      59\n",
       "2室0厅      50\n",
       "3室3厅      43\n",
       "3室0厅      29\n",
       "6室3厅      29\n",
       "5室1厅      27\n",
       "7室3厅       7\n",
       "7室2厅       6\n",
       "2室3厅       5\n",
       "8室3厅       4\n",
       "4室4厅       4\n",
       "5室4厅       4\n",
       "6室4厅       4\n",
       "8室2厅       3\n",
       "4室0厅       3\n",
       "6室0厅       2\n",
       "6室5厅       1\n",
       "1室3厅       1\n",
       "7室1厅       1\n",
       "9室3厅       1\n",
       "6室1厅       1\n",
       "9室2厅       1\n",
       "8室5厅       1\n",
       "5室0厅       1\n",
       "9室1厅       1\n",
       "8室4厅       1\n",
       "Name: Layout, dtype: int64"
      ]
     },
     "execution_count": 5,
     "metadata": {},
     "output_type": "execute_result"
    }
   ],
   "source": [
    "# 没经处理的Layout特征值\n",
    "df['Layout'].value_counts()"
   ]
  },
  {
   "cell_type": "code",
   "execution_count": 7,
   "metadata": {},
   "outputs": [],
   "source": [
    "# Layout特征的处理\n",
    "\n",
    "# 只考虑“室”和“厅”，将其它少数“房间”和“卫”移除\n",
    "df = df.loc[df['Layout'].str.extract('^\\d(.*?)\\d.*?', expand=False) == '室']\n",
    "\n",
    "# 提取“室”和“厅”创建新特征\n",
    "df['Layout_room_num'] = df['Layout'].str.extract('(^\\d).*', expand=False).astype('int64')\n",
    "df['Layout_hall_num'] = df['Layout'].str.extract('^\\d.*?(\\d).*', expand=False).astype('int64')"
   ]
  },
  {
   "cell_type": "code",
   "execution_count": null,
   "metadata": {},
   "outputs": [],
   "source": [
    "# 按中位数对“Year”特征进行分箱\n",
    "df['Year'] = pd.qcut(df['Year'],8).astype('object')"
   ]
  },
  {
   "cell_type": "code",
   "execution_count": 14,
   "metadata": {},
   "outputs": [],
   "source": [
    "def get_item_for_text(text,items):\n",
    "    for item in items:\n",
    "        c=item\n",
    "    for char in text:\n",
    "        if char not in c:\n",
    "            break\n",
    "        else:\n",
    "           c= c.replace(char,\"\")\n",
    "    if not c:\n",
    "        return item\n",
    "    return \"\"\n",
    "\n",
    "def direct_func(text):\n",
    "    text=text.strip()\n",
    "    d_list_one = ['东','西','南','北']\n",
    "    d_list_two = ['东西','东南','东北','西南','西北','南北']\n",
    "    d_list_three = ['东西南','东西北','东南北','西南北']\n",
    "    d_list_four = ['东西南北']   \n",
    "    if text in d_list_one or text in d_list_two or text in d_list_three or text in d_list_four:\n",
    "        return text\n",
    "    if len(text)==2:\n",
    "        return get_item_for_text(text,d_list_two)\n",
    "    elif len(text)==3:\n",
    "        return get_item_for_text(text,d_list_three)\n",
    "    elif len(text)==4:\n",
    "        return get_item_for_text(text,d_list_four)\n",
    "    else:\n",
    "        return \"\""
   ]
  },
  {
   "cell_type": "code",
   "execution_count": 15,
   "metadata": {
    "collapsed": true
   },
   "outputs": [
    {
     "data": {
      "text/plain": [
       "南北      11368\n",
       "南        2726\n",
       "东西       1388\n",
       "东南       1311\n",
       "西南       1094\n",
       "东         843\n",
       "西         802\n",
       "西北        733\n",
       "东北        645\n",
       "西南北       495\n",
       "北         484\n",
       "东南北       465\n",
       "          430\n",
       "东西北       139\n",
       "东西南北      120\n",
       "东西南         9\n",
       "Name: Direction, dtype: int64"
      ]
     },
     "execution_count": 15,
     "metadata": {},
     "output_type": "execute_result"
    }
   ],
   "source": [
    "# 通过 apply() 方法将 Direction 数据格式转换\n",
    "\n",
    "# 对“Direction”特征\n",
    "d_list_one = ['东','西','南','北']\n",
    "d_list_two = ['东西','东南','东北','西南','西北','南北']\n",
    "d_list_three = ['东西南','东西北','东南北','西南北']\n",
    "d_list_four = ['东西南北']    \n",
    "df['Direction'] = df['Direction'].apply(direct_func)\n",
    "df = df.loc[(df['Direction']!='no')&(df['Direction']!='nan')]\n",
    "df['Direction'].value_counts()"
   ]
  },
  {
   "cell_type": "code",
   "execution_count": 16,
   "metadata": {},
   "outputs": [],
   "source": [
    "# 根据已有特征创建新特征\n",
    "df['Layout_total_num'] = df['Layout_room_num'] + df['Layout_hall_num']\n",
    "df['Size_room_ratio'] = df['Size']/df['Layout_total_num']\n",
    "\n",
    "# 删除无用特征df = df.drop(['Layout','PerPrice','Garden'],axis=1)"
   ]
  },
  {
   "cell_type": "code",
   "execution_count": 17,
   "metadata": {
    "collapsed": true
   },
   "outputs": [
    {
     "data": {
      "text/plain": [
       "<matplotlib.axes._subplots.AxesSubplot at 0xfcdf088>"
      ]
     },
     "execution_count": 17,
     "metadata": {},
     "output_type": "execute_result"
    },
    {
     "data": {
      "image/png": "[encoded data removed]",
      "text/plain": [
       "<Figure size 1440x1440 with 2 Axes>"
      ]
     },
     "metadata": {
      "needs_background": "light"
     },
     "output_type": "display_data"
    }
   ],
   "source": [
    "# 特征相关性\n",
    "\n",
    "# data_corr \n",
    "colormap = plt.cm.RdBu\n",
    "plt.figure(figsize=(20,20))\n",
    "# plt.title('Pearson Correlation of Features', y=1.05, size=15)\n",
    "sns.heatmap(df.corr(),linewidths=0.1,vmax=1.0, square=True, cmap=colormap, linecolor='white', annot=True)"
   ]
  },
  {
   "cell_type": "code",
   "execution_count": 22,
   "metadata": {},
   "outputs": [],
   "source": [
    "# 数据划分\n",
    "\n",
    "\n",
    "# 特征变量和目标变量\n",
    "features = df.drop('Price', axis=1)\n",
    "prices = df['Price']\n",
    "# 转换训练测试集格式为数组\n",
    "features = np.array(features)\n",
    "prices = np.array(prices)\n",
    "\n",
    "# 导入sklearn进行训练测试集划分\n",
    "from sklearn.model_selection import train_test_split\n",
    "features_train, features_test, prices_train, prices_test = train_test_split(features, prices, test_size=0.2, random_state=0)"
   ]
  },
  {
   "cell_type": "markdown",
   "metadata": {},
   "source": [
    "# 建立模型"
   ]
  },
  {
   "cell_type": "code",
   "execution_count": 25,
   "metadata": {},
   "outputs": [],
   "source": [
    "from sklearn.model_selection import KFold\n",
    "from sklearn.tree import DecisionTreeRegressor\n",
    "from sklearn.metrics import make_scorer\n",
    "from sklearn.model_selection import GridSearchCV\n",
    "\n",
    "# 利用GridSearchCV计算最优解\n",
    "def fit_model(X, y):\n",
    "    \"\"\" 基于输入数据 [X,y]，利于网格搜索找到最优的决策树模型\"\"\"\n",
    "    \n",
    "    cross_validator = KFold(10, shuffle=True)\n",
    "    regressor = DecisionTreeRegressor()\n",
    "    \n",
    "    params = {'max_depth':[1,2,3,4,5,6,7,8,9,10]}\n",
    "    scoring_fnc = make_scorer(performance_metric)\n",
    "    grid = GridSearchCV(estimator = regressor, param_grid = params, scoring = scoring_fnc, cv = cross_validator)\n",
    "\n",
    "    # 基于输入数据 [X,y]，进行网格搜索\n",
    "    grid = grid.fit(X, y)\n",
    "#     print pd.DataFrame(grid.cv_results_)\n",
    "    return grid.best_estimator_\n",
    "\n",
    "# 计算R2分数\n",
    "def performance_metric(y_true, y_predict):\n",
    "    \"\"\"计算并返回预测值相比于预测值的分数\"\"\"\n",
    "    from sklearn.metrics import r2_score\n",
    "    score = r2_score(y_true, y_predict)\n",
    "\n",
    "    return score"
   ]
  }
 ],
 "metadata": {
  "kernelspec": {
   "display_name": "Python 3",
   "language": "python",
   "name": "python3"
  },
  "language_info": {
   "codemirror_mode": {
    "name": "ipython",
    "version": 3
   },
   "file_extension": ".py",
   "mimetype": "text/x-python",
   "name": "python",
   "nbconvert_exporter": "python",
   "pygments_lexer": "ipython3",
   "version": "3.7.4"
  }
 },
 "nbformat": 4,
 "nbformat_minor": 2
}
