{
 "cells": [
  {
   "cell_type": "code",
   "execution_count": 6,
   "metadata": {
    "collapsed": true
   },
   "outputs": [
    {
     "name": "stdout",
     "output_type": "stream",
     "text": [
      "正在进行“肝气郁结证型系数”的聚类...\n",
      "正在进行“热毒蕴结证型系数”的聚类...\n"
     ]
    },
    {
     "name": "stderr",
     "output_type": "stream",
     "text": [
      "c:\\python\\python37\\lib\\site-packages\\ipykernel_launcher.py:20: FutureWarning: Method .as_matrix will be removed in a future version. Use .values instead.\n",
      "c:\\python\\python37\\lib\\site-packages\\ipykernel_launcher.py:29: SettingWithCopyWarning: \n",
      "A value is trying to be set on a copy of a slice from a DataFrame\n",
      "\n",
      "See the caveats in the documentation: http://pandas.pydata.org/pandas-docs/stable/user_guide/indexing.html#returning-a-view-versus-a-copy\n",
      "c:\\python\\python37\\lib\\site-packages\\ipykernel_launcher.py:20: FutureWarning: Method .as_matrix will be removed in a future version. Use .values instead.\n",
      "c:\\python\\python37\\lib\\site-packages\\ipykernel_launcher.py:29: SettingWithCopyWarning: \n",
      "A value is trying to be set on a copy of a slice from a DataFrame\n",
      "\n",
      "See the caveats in the documentation: http://pandas.pydata.org/pandas-docs/stable/user_guide/indexing.html#returning-a-view-versus-a-copy\n",
      "c:\\python\\python37\\lib\\site-packages\\ipykernel_launcher.py:20: FutureWarning: Method .as_matrix will be removed in a future version. Use .values instead.\n",
      "c:\\python\\python37\\lib\\site-packages\\ipykernel_launcher.py:29: SettingWithCopyWarning: \n",
      "A value is trying to be set on a copy of a slice from a DataFrame\n",
      "\n",
      "See the caveats in the documentation: http://pandas.pydata.org/pandas-docs/stable/user_guide/indexing.html#returning-a-view-versus-a-copy\n",
      "c:\\python\\python37\\lib\\site-packages\\ipykernel_launcher.py:20: FutureWarning: Method .as_matrix will be removed in a future version. Use .values instead.\n"
     ]
    },
    {
     "name": "stdout",
     "output_type": "stream",
     "text": [
      "正在进行“冲任失调证型系数”的聚类...\n",
      "正在进行“气血两虚证型系数”的聚类...\n"
     ]
    },
    {
     "name": "stderr",
     "output_type": "stream",
     "text": [
      "c:\\python\\python37\\lib\\site-packages\\ipykernel_launcher.py:29: SettingWithCopyWarning: \n",
      "A value is trying to be set on a copy of a slice from a DataFrame\n",
      "\n",
      "See the caveats in the documentation: http://pandas.pydata.org/pandas-docs/stable/user_guide/indexing.html#returning-a-view-versus-a-copy\n",
      "c:\\python\\python37\\lib\\site-packages\\ipykernel_launcher.py:20: FutureWarning: Method .as_matrix will be removed in a future version. Use .values instead.\n",
      "c:\\python\\python37\\lib\\site-packages\\ipykernel_launcher.py:29: SettingWithCopyWarning: \n",
      "A value is trying to be set on a copy of a slice from a DataFrame\n",
      "\n",
      "See the caveats in the documentation: http://pandas.pydata.org/pandas-docs/stable/user_guide/indexing.html#returning-a-view-versus-a-copy\n",
      "c:\\python\\python37\\lib\\site-packages\\ipykernel_launcher.py:20: FutureWarning: Method .as_matrix will be removed in a future version. Use .values instead.\n"
     ]
    },
    {
     "name": "stdout",
     "output_type": "stream",
     "text": [
      "正在进行“脾胃虚弱证型系数”的聚类...\n",
      "正在进行“肝肾阴虚证型系数”的聚类...\n"
     ]
    },
    {
     "name": "stderr",
     "output_type": "stream",
     "text": [
      "c:\\python\\python37\\lib\\site-packages\\ipykernel_launcher.py:29: SettingWithCopyWarning: \n",
      "A value is trying to be set on a copy of a slice from a DataFrame\n",
      "\n",
      "See the caveats in the documentation: http://pandas.pydata.org/pandas-docs/stable/user_guide/indexing.html#returning-a-view-versus-a-copy\n"
     ]
    }
   ],
   "source": [
    "\n",
    "from __future__ import print_function\n",
    "import pandas as pd\n",
    "from sklearn.cluster import KMeans #导入K均值聚类算法\n",
    "\n",
    "datafile = '../data/data.xls' #待聚类的数据文件\n",
    "processedfile = '../tmp/data_processed.xls' #数据处理后文件\n",
    "typelabel ={u'肝气郁结证型系数':'A', u'热毒蕴结证型系数':'B', u'冲任失调证型系数':'C', u'气血两虚证型系数':'D', u'脾胃虚弱证型系数':'E', u'肝肾阴虚证型系数':'F'}\n",
    "k = 4 #需要进行的聚类类别数\n",
    "\n",
    "#读取数据并进行聚类分析\n",
    "data = pd.read_excel(datafile) #读取数据\n",
    "keys = list(typelabel.keys())\n",
    "result = pd.DataFrame()\n",
    "\n",
    "if __name__ == '__main__': #判断是否主窗口运行，如果是将代码保存为.py后运行，则需要这句，如果直接复制到命令窗口运行，则不需要这句。\n",
    "  for i in range(len(keys)):\n",
    "    #调用k-means算法，进行聚类离散化\n",
    "    print(u'正在进行“%s”的聚类...' % keys[i])\n",
    "    kmodel = KMeans(n_clusters = k, n_jobs = 4) #n_jobs是并行数，一般等于CPU数较好\n",
    "    kmodel.fit(data[[keys[i]]].as_matrix()) #训练模型\n",
    "    \n",
    "    r1 = pd.DataFrame(kmodel.cluster_centers_, columns = [typelabel[keys[i]]]) #聚类中心\n",
    "    r2 = pd.Series(kmodel.labels_).value_counts() #分类统计\n",
    "    r2 = pd.DataFrame(r2, columns = [typelabel[keys[i]]+'n']) #转为DataFrame，记录各个类别的数目\n",
    "    r = pd.concat([r1, r2], axis = 1) #匹配聚类中心和类别数目\n",
    "    r.index = [1, 2, 3, 4]\n",
    "    \n",
    "#     r[typelabel[keys[i]]] = pd.rolling_mean(r[typelabel[keys[i]]], 2) #rolling_mean()用来计算相邻2列的均值，以此作为边界点。\n",
    "    r[typelabel[keys[i]]][1] = 0.0 #这两句代码将原来的聚类中心改为边界点。\n",
    "    result = result.append(r.T)\n",
    "\n",
    "#   result = result.sort() #以Index排序，即以A,B,C,D,E,F顺序排\n",
    "  result.to_excel(processedfile)"
   ]
  },
  {
   "cell_type": "code",
   "execution_count": 9,
   "metadata": {},
   "outputs": [],
   "source": [
    "import pandas as pd\n",
    "\n",
    "#自定义连接函数，用于实现L_{k-1}到C_k的连接\n",
    "def connect_string(x, ms):\n",
    "  x = list(map(lambda i:sorted(i.split(ms)), x))\n",
    "  l = len(x[0])\n",
    "  r = []\n",
    "  for i in range(len(x)):\n",
    "    for j in range(i,len(x)):\n",
    "      if x[i][:l-1] == x[j][:l-1] and x[i][l-1] != x[j][l-1]:\n",
    "        r.append(x[i][:l-1]+sorted([x[j][l-1],x[i][l-1]]))\n",
    "  return r\n",
    "\n",
    "#寻找关联规则的函数\n",
    "def find_rule(d, support, confidence, ms = u'--'):\n",
    "  result = pd.DataFrame(index=['support', 'confidence']) #定义输出结果\n",
    "  \n",
    "  support_series = 1.0*d.sum()/len(d) #支持度序列\n",
    "  column = list(support_series[support_series > support].index) #初步根据支持度筛选\n",
    "  k = 0\n",
    "  \n",
    "  while len(column) > 1:\n",
    "    k = k+1\n",
    "    print(u'\\n正在进行第%s次搜索...' %k)\n",
    "    column = connect_string(column, ms)\n",
    "    print(u'数目：%s...' %len(column))\n",
    "    sf = lambda i: d[i].prod(axis=1, numeric_only = True) #新一批支持度的计算函数\n",
    "    \n",
    "    #创建连接数据，这一步耗时、耗内存最严重。当数据集较大时，可以考虑并行运算优化。\n",
    "    d_2 = pd.DataFrame(list(map(sf,column)), index = [ms.join(i) for i in column]).T\n",
    "    \n",
    "    support_series_2 = 1.0*d_2[[ms.join(i) for i in column]].sum()/len(d) #计算连接后的支持度\n",
    "    column = list(support_series_2[support_series_2 > support].index) #新一轮支持度筛选\n",
    "    support_series = support_series.append(support_series_2)\n",
    "    column2 = []\n",
    "    \n",
    "    for i in column: #遍历可能的推理，如{A,B,C}究竟是A+B-->C还是B+C-->A还是C+A-->B？\n",
    "      i = i.split(ms)\n",
    "      for j in range(len(i)):\n",
    "        column2.append(i[:j]+i[j+1:]+i[j:j+1])\n",
    "    \n",
    "    cofidence_series = pd.Series(index=[ms.join(i) for i in column2]) #定义置信度序列\n",
    " \n",
    "    for i in column2: #计算置信度序列\n",
    "      cofidence_series[ms.join(i)] = support_series[ms.join(sorted(i))]/support_series[ms.join(i[:len(i)-1])]\n",
    "    \n",
    "    for i in cofidence_series[cofidence_series > confidence].index: #置信度筛选\n",
    "      result[i] = 0.0\n",
    "      result[i]['confidence'] = cofidence_series[i]\n",
    "      result[i]['support'] = support_series[ms.join(sorted(i.split(ms)))]\n",
    "  \n",
    "#   result = result.T.sort(['confidence','support'], ascending = False) #结果整理，输出\n",
    "  print(u'\\n结果为：')\n",
    "  print(result)\n",
    "  \n",
    "  return result"
   ]
  },
  {
   "cell_type": "code",
   "execution_count": 10,
   "metadata": {},
   "outputs": [
    {
     "name": "stderr",
     "output_type": "stream",
     "text": [
      "c:\\python\\python37\\lib\\site-packages\\ipykernel_launcher.py:6: DeprecationWarning: time.clock has been deprecated in Python 3.3 and will be removed from Python 3.8: use time.perf_counter or time.process_time instead\n",
      "  \n",
      "c:\\python\\python37\\lib\\site-packages\\ipykernel_launcher.py:9: FutureWarning: Method .as_matrix will be removed in a future version. Use .values instead.\n",
      "  if __name__ == '__main__':\n"
     ]
    },
    {
     "name": "stdout",
     "output_type": "stream",
     "text": [
      "\n",
      "转换原始数据至0-1矩阵...\n"
     ]
    },
    {
     "name": "stderr",
     "output_type": "stream",
     "text": [
      "c:\\python\\python37\\lib\\site-packages\\ipykernel_launcher.py:11: DeprecationWarning: time.clock has been deprecated in Python 3.3 and will be removed from Python 3.8: use time.perf_counter or time.process_time instead\n",
      "  # This is added back by InteractiveShellApp.init_path()\n",
      "c:\\python\\python37\\lib\\site-packages\\ipykernel_launcher.py:19: DeprecationWarning: time.clock has been deprecated in Python 3.3 and will be removed from Python 3.8: use time.perf_counter or time.process_time instead\n"
     ]
    },
    {
     "name": "stdout",
     "output_type": "stream",
     "text": [
      "\n",
      "转换完毕，用时：0.99秒\n",
      "\n",
      "开始搜索关联规则...\n",
      "\n",
      "正在进行第1次搜索...\n",
      "数目：276...\n",
      "\n",
      "正在进行第2次搜索...\n",
      "数目：947...\n",
      "\n",
      "正在进行第3次搜索...\n",
      "数目：41...\n",
      "\n",
      "结果为：\n",
      "            C3---F4---H4  B2---F4---H4  A3---F4---H4  C2---E3---D2  \\\n",
      "support         0.075269      0.062366      0.078495      0.092473   \n",
      "confidence      0.875000      0.794521      0.879518      0.754386   \n",
      "\n",
      "            D2---F3---H4---A2  \n",
      "support              0.062366  \n",
      "confidence           0.753247  \n",
      "\n",
      "搜索完成，用时：5.85秒\n"
     ]
    },
    {
     "name": "stderr",
     "output_type": "stream",
     "text": [
      "c:\\python\\python37\\lib\\site-packages\\ipykernel_launcher.py:22: DeprecationWarning: time.clock has been deprecated in Python 3.3 and will be removed from Python 3.8: use time.perf_counter or time.process_time instead\n"
     ]
    }
   ],
   "source": [
    "import time #导入时间库用来计算用时\n",
    "\n",
    "inputfile = '../data/apriori.txt' #输入事务集文件\n",
    "data = pd.read_csv(inputfile, header=None, dtype = object)\n",
    "\n",
    "start = time.clock() #计时开始\n",
    "print(u'\\n转换原始数据至0-1矩阵...')\n",
    "ct = lambda x : pd.Series(1, index = x[pd.notnull(x)]) #转换0-1矩阵的过渡函数\n",
    "b = map(ct, data.as_matrix()) #用map方式执行\n",
    "data = pd.DataFrame(b).fillna(0) #实现矩阵转换，空值用0填充\n",
    "end = time.clock() #计时结束\n",
    "print(u'\\n转换完毕，用时：%0.2f秒' %(end-start))\n",
    "del b #删除中间变量b，节省内存\n",
    "\n",
    "support = 0.06 #最小支持度\n",
    "confidence = 0.75 #最小置信度\n",
    "ms = '---' #连接符，默认'--'，用来区分不同元素，如A--B。需要保证原始表格中不含有该字符\n",
    "\n",
    "start = time.clock() #计时开始\n",
    "print(u'\\n开始搜索关联规则...')\n",
    "find_rule(data, support, confidence, ms)\n",
    "end = time.clock() #计时结束\n",
    "print(u'\\n搜索完成，用时：%0.2f秒' %(end-start))"
   ]
  }
 ],
 "metadata": {
  "kernelspec": {
   "display_name": "Python 3",
   "language": "python",
   "name": "python3"
  },
  "language_info": {
   "codemirror_mode": {
    "name": "ipython",
    "version": 3
   },
   "file_extension": ".py",
   "mimetype": "text/x-python",
   "name": "python",
   "nbconvert_exporter": "python",
   "pygments_lexer": "ipython3",
   "version": "3.7.4"
  }
 },
 "nbformat": 4,
 "nbformat_minor": 2
}
